{
 "cells": [
  {
   "cell_type": "markdown",
   "metadata": {},
   "source": [
    "# Introducción al machine learning con python: sklearn\n",
    "---\n",
    "\n",
    "<div class=\"panel panel-success\">\n",
    "    <div class='panel-heading'>\n",
    "    <h4>Empecemos</h4>\n",
    "    </div>\n",
    "    <div class='panel-body'>\n",
    "    <ol type=\"A\">\n",
    "    <li>sklearn</li>\n",
    "    <li>Example: LogisticRegression</li>\n",
    "</ol>\n",
    "    \n",
    "</div>\n",
    "</div>\n"
   ]
  },
  {
   "cell_type": "markdown",
   "metadata": {},
   "source": [
    "# sci-kit learn\n",
    "\n",
    "<img src='img/sklearn.png'>\n",
    "\n",
    "SKlearn es la librería de facto para construir modelos de ML en python. Poseé una arquitectura intuitiva y generalizada a todos los tipos de modelos. Además, incluye una serie de herramientas que nos ayudarán no solo a entrenar y ejecutar modelos, si no también a seleccionarlos, trabajar las variables, y evaluar la eficiencia de nuestros sistemas de ML.\n",
    "\n",
    "Según su descripción en la página web:\n",
    "\n",
    "* Simple and efficient tools for data mining and data analysis\n",
    "* Accessible to everybody, and reusable in various contexts\n",
    "* Built on NumPy, SciPy, and matplotlib\n"
   ]
  },
  {
   "cell_type": "markdown",
   "metadata": {},
   "source": [
    "# Ejemplo básico\n",
    "\n",
    "Antes de empezar a usarla, deberemos importar la libreria. Por convención, se utilizará la fuente entera y el modulo a cargar. Por ejemplo, si queremos cargar un arbol de decisión, deberíamos ejecutar:\n",
    "\n",
    "```python\n",
    "from sklearn.tree import DecisionTreeClassifier\n",
    "```\n",
    "\n",
    "El número de modelos de ML, así como las distintas funcionalidades auxiliares son muy extensas. Por suerte, la documentación de sklearn es muy completa y explicativa, por lo que una busqueda rápida en google sobre la libreria que buscamos debería bastar para encontrarlo."
   ]
  },
  {
   "cell_type": "markdown",
   "metadata": {},
   "source": [
    "### Ejercicio 0: Carga las librerías básicas para crear un entorno de analisis de datos"
   ]
  },
  {
   "cell_type": "code",
   "execution_count": 1,
   "metadata": {},
   "outputs": [],
   "source": [
    "%matplotlib inline"
   ]
  },
  {
   "cell_type": "markdown",
   "metadata": {},
   "source": [
    "En este ejemplo, empezaremos por ver como crear un clasificador binario"
   ]
  },
  {
   "cell_type": "markdown",
   "metadata": {},
   "source": [
    "Datasets de referencia para analítica https://archive.ics.uci.edu"
   ]
  },
  {
   "cell_type": "markdown",
   "metadata": {},
   "source": [
    "### Ejercicio 1: Carga los datos en un dataframe. Busca como leer un fichero desde una url en python e imprime la información. Renombra las columnas de acuerdo a la información sobre las variables"
   ]
  },
  {
   "cell_type": "code",
   "execution_count": 9,
   "metadata": {},
   "outputs": [],
   "source": [
    "pima_diabetes_name = 'data/pima-indians-diabetes.names'\n",
    "pima_diabetes_data= 'data/pima-indians-diabetes.data'"
   ]
  },
  {
   "cell_type": "code",
   "execution_count": 53,
   "metadata": {},
   "outputs": [],
   "source": [
    "# open and print the pima_diabetes_name"
   ]
  },
  {
   "cell_type": "code",
   "execution_count": 15,
   "metadata": {},
   "outputs": [],
   "source": [
    "# load de data into a pandas dataframe with the option `header=None`\n",
    "df = ..."
   ]
  },
  {
   "cell_type": "code",
   "execution_count": 54,
   "metadata": {},
   "outputs": [],
   "source": [
    "columns = ['times_pregnant', 'glucosa', 'presion', 'skinfold',\n",
    "           'insulina', 'bmi', 'pedigree', 'edad', 'diabetes']\n",
    "# rename the columns"
   ]
  },
  {
   "cell_type": "markdown",
   "metadata": {},
   "source": [
    "### Ejercicio 2: Genera los descriptivos básicos e intenta contestar a:\n",
    "\n",
    "1. Es un problema desbalanceado?\n",
    "1. Existen valores nulos?\n",
    "1. Existen outliers?"
   ]
  },
  {
   "cell_type": "markdown",
   "metadata": {},
   "source": [
    "### Ejercicio 3: Divide los datos en dos partes, df_train y df_test con el 80% y el 20% de los datos repartidos de forma aleatoria.\n",
    "\n",
    "### Por qué hacemos esto?"
   ]
  },
  {
   "cell_type": "code",
   "execution_count": 56,
   "metadata": {},
   "outputs": [],
   "source": [
    "### Mezcla el dataframe usando sample y utiliza una random_seed = 42\n",
    "### Cuanto es el 80% de los datos?\n",
    "train_size = ...\n",
    "### Crea una df_train y el df_test a partir del resultado anterior y el metodo .loc[]\n",
    "df_train = ... \n",
    "df_test = ..."
   ]
  },
  {
   "cell_type": "markdown",
   "metadata": {},
   "source": [
    "### Ejercicio 3: Carga la libreria de sklearn que permite entrenar una regresión logística. Instancia el modelo bajo el nombre `clf_lr`"
   ]
  },
  {
   "cell_type": "code",
   "execution_count": 45,
   "metadata": {},
   "outputs": [],
   "source": [
    "from ... import ...\n",
    "\n",
    "clf_lr = ..."
   ]
  },
  {
   "cell_type": "markdown",
   "metadata": {},
   "source": [
    "### Ejercicio 4: Entrena el modelo y evalualo con el dataframe de test"
   ]
  },
  {
   "cell_type": "code",
   "execution_count": 46,
   "metadata": {},
   "outputs": [],
   "source": [
    "# separa las variables de la variable objetivo\n",
    "X_train = ...\n",
    "y_train = ..."
   ]
  },
  {
   "cell_type": "code",
   "execution_count": 57,
   "metadata": {},
   "outputs": [],
   "source": [
    "# entrena el modelo"
   ]
  },
  {
   "cell_type": "code",
   "execution_count": 58,
   "metadata": {},
   "outputs": [],
   "source": [
    "# enseña los coeficientes"
   ]
  },
  {
   "cell_type": "code",
   "execution_count": 59,
   "metadata": {},
   "outputs": [],
   "source": [
    "# evalua el modelo con los datos de test"
   ]
  },
  {
   "cell_type": "markdown",
   "metadata": {},
   "source": [
    "### Ejercicio 5: Repite el mismo proceso cambiando el parametro C y compara los resultados"
   ]
  },
  {
   "cell_type": "code",
   "execution_count": 50,
   "metadata": {},
   "outputs": [],
   "source": [
    "clf_lr_c_10 = ..."
   ]
  }
 ],
 "metadata": {
  "kernelspec": {
   "display_name": "Python (UIB)",
   "language": "python",
   "name": "uib"
  },
  "language_info": {
   "codemirror_mode": {
    "name": "ipython",
    "version": 3
   },
   "file_extension": ".py",
   "mimetype": "text/x-python",
   "name": "python",
   "nbconvert_exporter": "python",
   "pygments_lexer": "ipython3",
   "version": "3.7.3"
  }
 },
 "nbformat": 4,
 "nbformat_minor": 4
}
