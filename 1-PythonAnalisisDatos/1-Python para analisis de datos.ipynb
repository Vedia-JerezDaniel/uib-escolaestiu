{
 "cells": [
  {
   "cell_type": "markdown",
   "metadata": {
    "slideshow": {
     "slide_type": "slide"
    }
   },
   "source": [
    "# Python para análisis de datos"
   ]
  },
  {
   "cell_type": "markdown",
   "metadata": {
    "slideshow": {
     "slide_type": "slide"
    }
   },
   "source": [
    "# Qué es python?\n",
    "\n",
    "Python es un lenguaje de programación interpretado cuya filosofía hace hincapié en una sintaxis que favorezca un código legible."
   ]
  },
  {
   "cell_type": "code",
   "execution_count": 1,
   "metadata": {
    "slideshow": {
     "slide_type": "fragment"
    }
   },
   "outputs": [
    {
     "name": "stdout",
     "output_type": "stream",
     "text": [
      "The Zen of Python, by Tim Peters\n",
      "\n",
      "Beautiful is better than ugly.\n",
      "Explicit is better than implicit.\n",
      "Simple is better than complex.\n",
      "Complex is better than complicated.\n",
      "Flat is better than nested.\n",
      "Sparse is better than dense.\n",
      "Readability counts.\n",
      "Special cases aren't special enough to break the rules.\n",
      "Although practicality beats purity.\n",
      "Errors should never pass silently.\n",
      "Unless explicitly silenced.\n",
      "In the face of ambiguity, refuse the temptation to guess.\n",
      "There should be one-- and preferably only one --obvious way to do it.\n",
      "Although that way may not be obvious at first unless you're Dutch.\n",
      "Now is better than never.\n",
      "Although never is often better than *right* now.\n",
      "If the implementation is hard to explain, it's a bad idea.\n",
      "If the implementation is easy to explain, it may be a good idea.\n",
      "Namespaces are one honking great idea -- let's do more of those!\n"
     ]
    }
   ],
   "source": [
    "import this"
   ]
  },
  {
   "cell_type": "markdown",
   "metadata": {
    "slideshow": {
     "slide_type": "slide"
    }
   },
   "source": [
    "# Python para análisis de datos"
   ]
  },
  {
   "cell_type": "markdown",
   "metadata": {
    "slideshow": {
     "slide_type": "slide"
    }
   },
   "source": [
    "<img src=\"img/2-Python/python-r-other-2016-2017.jpg\" />"
   ]
  },
  {
   "cell_type": "markdown",
   "metadata": {
    "slideshow": {
     "slide_type": "fragment"
    }
   },
   "source": [
    "En una reciente [encuesta](http://www.kdnuggets.com/2017/08/python-overtakes-r-leader-analytics-data-science.html) realizada por KDNuggets, uno de los blogs más prestigiosos sobre análisis y ciencia de datos, el ecosistema de Python se situa como la principal plataforma, por encima de R, para el análisis de datos, la ciencia de datos y machine learning. "
   ]
  },
  {
   "cell_type": "markdown",
   "metadata": {
    "slideshow": {
     "slide_type": "slide"
    }
   },
   "source": [
    "<img src=\"img/2-Python/python-r-other-2016-2017-transitions.jpg\" />"
   ]
  },
  {
   "cell_type": "markdown",
   "metadata": {
    "slideshow": {
     "slide_type": "subslide"
    }
   },
   "source": [
    "**Se llegan a dos conclusiones clave**:\n",
    "\n",
    "1. Los usuarios de Python son más leales:\n",
    "    * Aquellos que en 2016 usaban Python como lenguaje principal, se quedan en Python\n",
    "    * Aquellos que lo usaban conjuntamente con R, tienden a usar **solo** Python cada vez más.\n",
    "\n",
    "2. Los usuarios de R tienden a migrar a Python, ya sea incorporandolo en su set de herramientas o migrando directamente."
   ]
  },
  {
   "cell_type": "markdown",
   "metadata": {
    "slideshow": {
     "slide_type": "slide"
    }
   },
   "source": [
    "<img src=\"img/2-Python/google-trends-python-r-data-science-machine-learning-2012-2017.jpg\" />\n",
    "\n",
    "[source:google trends](https://trends.google.com/trends/explore?date=all&q=Python%20data%20science,R%20data%20science,Python%20Machine%20Learning,R%20Machine%20Learning)"
   ]
  },
  {
   "cell_type": "markdown",
   "metadata": {
    "slideshow": {
     "slide_type": "slide"
    }
   },
   "source": [
    "<img src=\"img/2-Python/indeed-data-scientist-python-r-job-trends.jpg\">\n",
    "\n",
    "**Indeed \"Data Scientist\", \"Data Scientist\" Python, and \"Data Scientist\" R Job Trends, 2014-2017**"
   ]
  },
  {
   "cell_type": "markdown",
   "metadata": {
    "slideshow": {
     "slide_type": "subslide"
    }
   },
   "source": [
    "Los resultados de Google trend sugieren que:\n",
    "* La ventaja de python sobre R va a seguir aumentando en los años siguientes\n",
    "\n",
    "Los resultados sobre indeed.com:\n",
    "* La demanda de data scientist + python va a crecer de forma más rapida que para python\n"
   ]
  },
  {
   "cell_type": "markdown",
   "metadata": {
    "slideshow": {
     "slide_type": "slide"
    }
   },
   "source": [
    "<img src=\"img/2-Python/python-categories.png\">\n",
    "\n",
    "[source](https://stackoverflow.blog/2017/09/14/python-growing-quickly/)"
   ]
  },
  {
   "cell_type": "markdown",
   "metadata": {
    "slideshow": {
     "slide_type": "fragment"
    }
   },
   "source": [
    "El incremento de popularidad de python en los ultimos años se debe probablemente al auge del data science y machine learning"
   ]
  },
  {
   "cell_type": "markdown",
   "metadata": {
    "slideshow": {
     "slide_type": "slide"
    }
   },
   "source": [
    "<img src=\"img/2-Python/python-industry-growth.png\" width=600>\n"
   ]
  },
  {
   "cell_type": "markdown",
   "metadata": {
    "slideshow": {
     "slide_type": "subslide"
    }
   },
   "source": [
    "El crecimiento de python se reparte de forma homogenea entre diferentes tipos de industria.\n",
    "\n",
    "En suma, la historia que revela es que la ciencia de datos y el machine learning se vuelven más comunes en diferentes tipos de compañias y ue python es el lenguaje de elección."
   ]
  },
  {
   "cell_type": "markdown",
   "metadata": {
    "slideshow": {
     "slide_type": "slide"
    }
   },
   "source": [
    "# El ecosistema de python para el análisis de datos"
   ]
  },
  {
   "cell_type": "markdown",
   "metadata": {
    "slideshow": {
     "slide_type": "slide"
    }
   },
   "source": [
    "Como cualquier otra matería prima, el dato debe pasar por una serie de etápas y transformaciones desde que es \"extraído\" (APIs, scrapping, encuestas...) hasta que es \"consumido\" (aplicaciones, sistemas de recomendación, ...)"
   ]
  },
  {
   "cell_type": "markdown",
   "metadata": {
    "slideshow": {
     "slide_type": "slide"
    }
   },
   "source": [
    "<img src=\"img/2-Python/the-python-ecosystem-for-data-science.jpg\"/>"
   ]
  },
  {
   "cell_type": "markdown",
   "metadata": {
    "slideshow": {
     "slide_type": "slide"
    }
   },
   "source": [
    "<img src=\"img/2-Python/the-python-ecosystem-for-data-science-conda.jpg\"/>"
   ]
  },
  {
   "cell_type": "markdown",
   "metadata": {
    "slideshow": {
     "slide_type": "slide"
    }
   },
   "source": [
    "# Data & AI Landscape"
   ]
  },
  {
   "cell_type": "markdown",
   "metadata": {
    "slideshow": {
     "slide_type": "slide"
    }
   },
   "source": [
    "<img src=\"img/Matt-Turck-FirstMark-2019-Big-Data-Landscape.png\">\n",
    "\n",
    "[source](http://mattturck.com/bigdata2017/)"
   ]
  },
  {
   "cell_type": "code",
   "execution_count": null,
   "metadata": {},
   "outputs": [],
   "source": []
  }
 ],
 "metadata": {
  "anaconda-cloud": {},
  "celltoolbar": "Slideshow",
  "kernelspec": {
   "display_name": "Python 3",
   "language": "python",
   "name": "python3"
  },
  "language_info": {
   "codemirror_mode": {
    "name": "ipython",
    "version": 3
   },
   "file_extension": ".py",
   "mimetype": "text/x-python",
   "name": "python",
   "nbconvert_exporter": "python",
   "pygments_lexer": "ipython3",
   "version": "3.7.3"
  }
 },
 "nbformat": 4,
 "nbformat_minor": 4
}
